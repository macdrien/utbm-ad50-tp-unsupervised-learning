{
 "metadata": {
  "language_info": {
   "codemirror_mode": {
    "name": "ipython",
    "version": 3
   },
   "file_extension": ".py",
   "mimetype": "text/x-python",
   "name": "python",
   "nbconvert_exporter": "python",
   "pygments_lexer": "ipython3",
   "version": "3.8.5-final"
  },
  "orig_nbformat": 2,
  "kernelspec": {
   "name": "python3",
   "display_name": "Python 3",
   "language": "python"
  }
 },
 "nbformat": 4,
 "nbformat_minor": 2,
 "cells": [
  {
   "source": [
    "# UTBM AD50 TP\n",
    "\n",
    "## Unsupervised Learning\n",
    "\n",
    "*Adrien Bouyssou*"
   ],
   "cell_type": "markdown",
   "metadata": {}
  },
  {
   "source": [
    "### 1. Imports"
   ],
   "cell_type": "markdown",
   "metadata": {}
  },
  {
   "cell_type": "code",
   "execution_count": 1,
   "metadata": {},
   "outputs": [],
   "source": [
    "from sklearn.datasets import load_breast_cancer\n",
    "from sklearn.preprocessing import StandardScaler\n",
    "import pandas"
   ]
  },
  {
   "source": [
    "### 2. Preparations"
   ],
   "cell_type": "markdown",
   "metadata": {}
  },
  {
   "cell_type": "code",
   "execution_count": 2,
   "metadata": {},
   "outputs": [
    {
     "output_type": "execute_result",
     "data": {
      "text/plain": [
       "   mean radius  mean texture  mean perimeter  mean area  mean smoothness  \\\n",
       "0        17.99         10.38          122.80     1001.0          0.11840   \n",
       "1        20.57         17.77          132.90     1326.0          0.08474   \n",
       "2        19.69         21.25          130.00     1203.0          0.10960   \n",
       "3        11.42         20.38           77.58      386.1          0.14250   \n",
       "4        20.29         14.34          135.10     1297.0          0.10030   \n",
       "\n",
       "   mean compactness  mean concavity  mean concave points  mean symmetry  \\\n",
       "0           0.27760          0.3001              0.14710         0.2419   \n",
       "1           0.07864          0.0869              0.07017         0.1812   \n",
       "2           0.15990          0.1974              0.12790         0.2069   \n",
       "3           0.28390          0.2414              0.10520         0.2597   \n",
       "4           0.13280          0.1980              0.10430         0.1809   \n",
       "\n",
       "   mean fractal dimension  ...  worst radius  worst texture  worst perimeter  \\\n",
       "0                 0.07871  ...         25.38          17.33           184.60   \n",
       "1                 0.05667  ...         24.99          23.41           158.80   \n",
       "2                 0.05999  ...         23.57          25.53           152.50   \n",
       "3                 0.09744  ...         14.91          26.50            98.87   \n",
       "4                 0.05883  ...         22.54          16.67           152.20   \n",
       "\n",
       "   worst area  worst smoothness  worst compactness  worst concavity  \\\n",
       "0      2019.0            0.1622             0.6656           0.7119   \n",
       "1      1956.0            0.1238             0.1866           0.2416   \n",
       "2      1709.0            0.1444             0.4245           0.4504   \n",
       "3       567.7            0.2098             0.8663           0.6869   \n",
       "4      1575.0            0.1374             0.2050           0.4000   \n",
       "\n",
       "   worst concave points  worst symmetry  worst fractal dimension  \n",
       "0                0.2654          0.4601                  0.11890  \n",
       "1                0.1860          0.2750                  0.08902  \n",
       "2                0.2430          0.3613                  0.08758  \n",
       "3                0.2575          0.6638                  0.17300  \n",
       "4                0.1625          0.2364                  0.07678  \n",
       "\n",
       "[5 rows x 30 columns]"
      ],
      "text/html": "<div>\n<style scoped>\n    .dataframe tbody tr th:only-of-type {\n        vertical-align: middle;\n    }\n\n    .dataframe tbody tr th {\n        vertical-align: top;\n    }\n\n    .dataframe thead th {\n        text-align: right;\n    }\n</style>\n<table border=\"1\" class=\"dataframe\">\n  <thead>\n    <tr style=\"text-align: right;\">\n      <th></th>\n      <th>mean radius</th>\n      <th>mean texture</th>\n      <th>mean perimeter</th>\n      <th>mean area</th>\n      <th>mean smoothness</th>\n      <th>mean compactness</th>\n      <th>mean concavity</th>\n      <th>mean concave points</th>\n      <th>mean symmetry</th>\n      <th>mean fractal dimension</th>\n      <th>...</th>\n      <th>worst radius</th>\n      <th>worst texture</th>\n      <th>worst perimeter</th>\n      <th>worst area</th>\n      <th>worst smoothness</th>\n      <th>worst compactness</th>\n      <th>worst concavity</th>\n      <th>worst concave points</th>\n      <th>worst symmetry</th>\n      <th>worst fractal dimension</th>\n    </tr>\n  </thead>\n  <tbody>\n    <tr>\n      <th>0</th>\n      <td>17.99</td>\n      <td>10.38</td>\n      <td>122.80</td>\n      <td>1001.0</td>\n      <td>0.11840</td>\n      <td>0.27760</td>\n      <td>0.3001</td>\n      <td>0.14710</td>\n      <td>0.2419</td>\n      <td>0.07871</td>\n      <td>...</td>\n      <td>25.38</td>\n      <td>17.33</td>\n      <td>184.60</td>\n      <td>2019.0</td>\n      <td>0.1622</td>\n      <td>0.6656</td>\n      <td>0.7119</td>\n      <td>0.2654</td>\n      <td>0.4601</td>\n      <td>0.11890</td>\n    </tr>\n    <tr>\n      <th>1</th>\n      <td>20.57</td>\n      <td>17.77</td>\n      <td>132.90</td>\n      <td>1326.0</td>\n      <td>0.08474</td>\n      <td>0.07864</td>\n      <td>0.0869</td>\n      <td>0.07017</td>\n      <td>0.1812</td>\n      <td>0.05667</td>\n      <td>...</td>\n      <td>24.99</td>\n      <td>23.41</td>\n      <td>158.80</td>\n      <td>1956.0</td>\n      <td>0.1238</td>\n      <td>0.1866</td>\n      <td>0.2416</td>\n      <td>0.1860</td>\n      <td>0.2750</td>\n      <td>0.08902</td>\n    </tr>\n    <tr>\n      <th>2</th>\n      <td>19.69</td>\n      <td>21.25</td>\n      <td>130.00</td>\n      <td>1203.0</td>\n      <td>0.10960</td>\n      <td>0.15990</td>\n      <td>0.1974</td>\n      <td>0.12790</td>\n      <td>0.2069</td>\n      <td>0.05999</td>\n      <td>...</td>\n      <td>23.57</td>\n      <td>25.53</td>\n      <td>152.50</td>\n      <td>1709.0</td>\n      <td>0.1444</td>\n      <td>0.4245</td>\n      <td>0.4504</td>\n      <td>0.2430</td>\n      <td>0.3613</td>\n      <td>0.08758</td>\n    </tr>\n    <tr>\n      <th>3</th>\n      <td>11.42</td>\n      <td>20.38</td>\n      <td>77.58</td>\n      <td>386.1</td>\n      <td>0.14250</td>\n      <td>0.28390</td>\n      <td>0.2414</td>\n      <td>0.10520</td>\n      <td>0.2597</td>\n      <td>0.09744</td>\n      <td>...</td>\n      <td>14.91</td>\n      <td>26.50</td>\n      <td>98.87</td>\n      <td>567.7</td>\n      <td>0.2098</td>\n      <td>0.8663</td>\n      <td>0.6869</td>\n      <td>0.2575</td>\n      <td>0.6638</td>\n      <td>0.17300</td>\n    </tr>\n    <tr>\n      <th>4</th>\n      <td>20.29</td>\n      <td>14.34</td>\n      <td>135.10</td>\n      <td>1297.0</td>\n      <td>0.10030</td>\n      <td>0.13280</td>\n      <td>0.1980</td>\n      <td>0.10430</td>\n      <td>0.1809</td>\n      <td>0.05883</td>\n      <td>...</td>\n      <td>22.54</td>\n      <td>16.67</td>\n      <td>152.20</td>\n      <td>1575.0</td>\n      <td>0.1374</td>\n      <td>0.2050</td>\n      <td>0.4000</td>\n      <td>0.1625</td>\n      <td>0.2364</td>\n      <td>0.07678</td>\n    </tr>\n  </tbody>\n</table>\n<p>5 rows × 30 columns</p>\n</div>"
     },
     "metadata": {},
     "execution_count": 2
    }
   ],
   "source": [
    "cancer = load_breast_cancer()\n",
    "\n",
    "columns = cancer.feature_names\n",
    "target = cancer.target\n",
    "\n",
    "dataset = pandas.DataFrame(cancer.data, columns=columns)\n",
    "dataset.head()\n"
   ]
  },
  {
   "source": [
    "### 3. Original dataset reprensentations"
   ],
   "cell_type": "markdown",
   "metadata": {}
  },
  {
   "cell_type": "code",
   "execution_count": 3,
   "metadata": {},
   "outputs": [
    {
     "output_type": "execute_result",
     "data": {
      "text/plain": [
       "                                             radius  \\\n",
       "0   {'mean': 17.99, 'error': 1.095, 'worst': 25.38}   \n",
       "1  {'mean': 20.57, 'error': 0.5435, 'worst': 24.99}   \n",
       "2  {'mean': 19.69, 'error': 0.7456, 'worst': 23.57}   \n",
       "3  {'mean': 11.42, 'error': 0.4956, 'worst': 14.91}   \n",
       "4  {'mean': 20.29, 'error': 0.7572, 'worst': 22.54}   \n",
       "\n",
       "                                            texture  \\\n",
       "0  {'mean': 10.38, 'error': 0.9053, 'worst': 17.33}   \n",
       "1  {'mean': 17.77, 'error': 0.7339, 'worst': 23.41}   \n",
       "2  {'mean': 21.25, 'error': 0.7869, 'worst': 25.53}   \n",
       "3    {'mean': 20.38, 'error': 1.156, 'worst': 26.5}   \n",
       "4  {'mean': 14.34, 'error': 0.7813, 'worst': 16.67}   \n",
       "\n",
       "                                         perimeter  \\\n",
       "0  {'mean': 122.8, 'error': 8.589, 'worst': 184.6}   \n",
       "1  {'mean': 132.9, 'error': 3.398, 'worst': 158.8}   \n",
       "2  {'mean': 130.0, 'error': 4.585, 'worst': 152.5}   \n",
       "3  {'mean': 77.58, 'error': 3.445, 'worst': 98.87}   \n",
       "4  {'mean': 135.1, 'error': 5.438, 'worst': 152.2}   \n",
       "\n",
       "                                                area  \\\n",
       "0  {'mean': 1001.0, 'error': 153.4, 'worst': 2019.0}   \n",
       "1  {'mean': 1326.0, 'error': 74.08, 'worst': 1956.0}   \n",
       "2  {'mean': 1203.0, 'error': 94.03, 'worst': 1709.0}   \n",
       "3    {'mean': 386.1, 'error': 27.23, 'worst': 567.7}   \n",
       "4  {'mean': 1297.0, 'error': 94.44, 'worst': 1575.0}   \n",
       "\n",
       "                                          smoothness  \\\n",
       "0  {'mean': 0.1184, 'error': 0.006399, 'worst': 0...   \n",
       "1  {'mean': 0.08474, 'error': 0.005225, 'worst': ...   \n",
       "2  {'mean': 0.1096, 'error': 0.00615, 'worst': 0....   \n",
       "3  {'mean': 0.1425, 'error': 0.00911, 'worst': 0....   \n",
       "4  {'mean': 0.1003, 'error': 0.01149, 'worst': 0....   \n",
       "\n",
       "                                         compactness  \\\n",
       "0  {'mean': 0.2776, 'error': 0.04904, 'worst': 0....   \n",
       "1  {'mean': 0.07864, 'error': 0.01308, 'worst': 0...   \n",
       "2  {'mean': 0.1599, 'error': 0.04006, 'worst': 0....   \n",
       "3  {'mean': 0.2839, 'error': 0.07458, 'worst': 0....   \n",
       "4  {'mean': 0.1328, 'error': 0.02461, 'worst': 0....   \n",
       "\n",
       "                                           concavity  \\\n",
       "0  {'mean': 0.3001, 'error': 0.05373, 'worst': 0....   \n",
       "1  {'mean': 0.0869, 'error': 0.0186, 'worst': 0.2...   \n",
       "2  {'mean': 0.1974, 'error': 0.03832, 'worst': 0....   \n",
       "3  {'mean': 0.2414, 'error': 0.05661, 'worst': 0....   \n",
       "4    {'mean': 0.198, 'error': 0.05688, 'worst': 0.4}   \n",
       "\n",
       "                                      concave points  \\\n",
       "0  {'mean': 0.1471, 'error': 0.01587, 'worst': 0....   \n",
       "1  {'mean': 0.07017, 'error': 0.0134, 'worst': 0....   \n",
       "2  {'mean': 0.1279, 'error': 0.02058, 'worst': 0....   \n",
       "3  {'mean': 0.1052, 'error': 0.01867, 'worst': 0....   \n",
       "4  {'mean': 0.1043, 'error': 0.01885, 'worst': 0....   \n",
       "\n",
       "                                            symmetry  \\\n",
       "0  {'mean': 0.2419, 'error': 0.03003, 'worst': 0....   \n",
       "1  {'mean': 0.1812, 'error': 0.01389, 'worst': 0....   \n",
       "2  {'mean': 0.2069, 'error': 0.0225, 'worst': 0.3...   \n",
       "3  {'mean': 0.2597, 'error': 0.05963, 'worst': 0....   \n",
       "4  {'mean': 0.1809, 'error': 0.01756, 'worst': 0....   \n",
       "\n",
       "                                   fractal dimension  \n",
       "0  {'mean': 0.07871, 'error': 0.006193, 'worst': ...  \n",
       "1  {'mean': 0.05667, 'error': 0.003532, 'worst': ...  \n",
       "2  {'mean': 0.05999, 'error': 0.004571, 'worst': ...  \n",
       "3  {'mean': 0.09744, 'error': 0.009208, 'worst': ...  \n",
       "4  {'mean': 0.05883, 'error': 0.005115, 'worst': ...  "
      ],
      "text/html": "<div>\n<style scoped>\n    .dataframe tbody tr th:only-of-type {\n        vertical-align: middle;\n    }\n\n    .dataframe tbody tr th {\n        vertical-align: top;\n    }\n\n    .dataframe thead th {\n        text-align: right;\n    }\n</style>\n<table border=\"1\" class=\"dataframe\">\n  <thead>\n    <tr style=\"text-align: right;\">\n      <th></th>\n      <th>radius</th>\n      <th>texture</th>\n      <th>perimeter</th>\n      <th>area</th>\n      <th>smoothness</th>\n      <th>compactness</th>\n      <th>concavity</th>\n      <th>concave points</th>\n      <th>symmetry</th>\n      <th>fractal dimension</th>\n    </tr>\n  </thead>\n  <tbody>\n    <tr>\n      <th>0</th>\n      <td>{'mean': 17.99, 'error': 1.095, 'worst': 25.38}</td>\n      <td>{'mean': 10.38, 'error': 0.9053, 'worst': 17.33}</td>\n      <td>{'mean': 122.8, 'error': 8.589, 'worst': 184.6}</td>\n      <td>{'mean': 1001.0, 'error': 153.4, 'worst': 2019.0}</td>\n      <td>{'mean': 0.1184, 'error': 0.006399, 'worst': 0...</td>\n      <td>{'mean': 0.2776, 'error': 0.04904, 'worst': 0....</td>\n      <td>{'mean': 0.3001, 'error': 0.05373, 'worst': 0....</td>\n      <td>{'mean': 0.1471, 'error': 0.01587, 'worst': 0....</td>\n      <td>{'mean': 0.2419, 'error': 0.03003, 'worst': 0....</td>\n      <td>{'mean': 0.07871, 'error': 0.006193, 'worst': ...</td>\n    </tr>\n    <tr>\n      <th>1</th>\n      <td>{'mean': 20.57, 'error': 0.5435, 'worst': 24.99}</td>\n      <td>{'mean': 17.77, 'error': 0.7339, 'worst': 23.41}</td>\n      <td>{'mean': 132.9, 'error': 3.398, 'worst': 158.8}</td>\n      <td>{'mean': 1326.0, 'error': 74.08, 'worst': 1956.0}</td>\n      <td>{'mean': 0.08474, 'error': 0.005225, 'worst': ...</td>\n      <td>{'mean': 0.07864, 'error': 0.01308, 'worst': 0...</td>\n      <td>{'mean': 0.0869, 'error': 0.0186, 'worst': 0.2...</td>\n      <td>{'mean': 0.07017, 'error': 0.0134, 'worst': 0....</td>\n      <td>{'mean': 0.1812, 'error': 0.01389, 'worst': 0....</td>\n      <td>{'mean': 0.05667, 'error': 0.003532, 'worst': ...</td>\n    </tr>\n    <tr>\n      <th>2</th>\n      <td>{'mean': 19.69, 'error': 0.7456, 'worst': 23.57}</td>\n      <td>{'mean': 21.25, 'error': 0.7869, 'worst': 25.53}</td>\n      <td>{'mean': 130.0, 'error': 4.585, 'worst': 152.5}</td>\n      <td>{'mean': 1203.0, 'error': 94.03, 'worst': 1709.0}</td>\n      <td>{'mean': 0.1096, 'error': 0.00615, 'worst': 0....</td>\n      <td>{'mean': 0.1599, 'error': 0.04006, 'worst': 0....</td>\n      <td>{'mean': 0.1974, 'error': 0.03832, 'worst': 0....</td>\n      <td>{'mean': 0.1279, 'error': 0.02058, 'worst': 0....</td>\n      <td>{'mean': 0.2069, 'error': 0.0225, 'worst': 0.3...</td>\n      <td>{'mean': 0.05999, 'error': 0.004571, 'worst': ...</td>\n    </tr>\n    <tr>\n      <th>3</th>\n      <td>{'mean': 11.42, 'error': 0.4956, 'worst': 14.91}</td>\n      <td>{'mean': 20.38, 'error': 1.156, 'worst': 26.5}</td>\n      <td>{'mean': 77.58, 'error': 3.445, 'worst': 98.87}</td>\n      <td>{'mean': 386.1, 'error': 27.23, 'worst': 567.7}</td>\n      <td>{'mean': 0.1425, 'error': 0.00911, 'worst': 0....</td>\n      <td>{'mean': 0.2839, 'error': 0.07458, 'worst': 0....</td>\n      <td>{'mean': 0.2414, 'error': 0.05661, 'worst': 0....</td>\n      <td>{'mean': 0.1052, 'error': 0.01867, 'worst': 0....</td>\n      <td>{'mean': 0.2597, 'error': 0.05963, 'worst': 0....</td>\n      <td>{'mean': 0.09744, 'error': 0.009208, 'worst': ...</td>\n    </tr>\n    <tr>\n      <th>4</th>\n      <td>{'mean': 20.29, 'error': 0.7572, 'worst': 22.54}</td>\n      <td>{'mean': 14.34, 'error': 0.7813, 'worst': 16.67}</td>\n      <td>{'mean': 135.1, 'error': 5.438, 'worst': 152.2}</td>\n      <td>{'mean': 1297.0, 'error': 94.44, 'worst': 1575.0}</td>\n      <td>{'mean': 0.1003, 'error': 0.01149, 'worst': 0....</td>\n      <td>{'mean': 0.1328, 'error': 0.02461, 'worst': 0....</td>\n      <td>{'mean': 0.198, 'error': 0.05688, 'worst': 0.4}</td>\n      <td>{'mean': 0.1043, 'error': 0.01885, 'worst': 0....</td>\n      <td>{'mean': 0.1809, 'error': 0.01756, 'worst': 0....</td>\n      <td>{'mean': 0.05883, 'error': 0.005115, 'worst': ...</td>\n    </tr>\n  </tbody>\n</table>\n</div>"
     },
     "metadata": {},
     "execution_count": 3
    }
   ],
   "source": [
    "def create_representation_dataset(dataset_to_represent, elements_in_the_dataset):\n",
    "    representations = []\n",
    "\n",
    "    for line in dataset_to_represent.values:\n",
    "        representation = {}\n",
    "\n",
    "        for index, element in enumerate(elements_in_the_dataset):\n",
    "            representation[element] = {\n",
    "                'mean': line[index],\n",
    "                'error': line[index + len(elements_in_the_dataset)],\n",
    "                'worst': line[index + 2 * len(elements_in_the_dataset)]\n",
    "            }\n",
    "\n",
    "        representations.append(representation)\n",
    "\n",
    "    return pandas.DataFrame(representations, columns=elements_in_the_dataset)\n",
    "\n",
    "number_of_elements = 10\n",
    "# Take elements labels\n",
    "elements = [' '.join(element.split()[1:]) for element in columns[:number_of_elements]]\n",
    "\n",
    "representations = create_representation_dataset(dataset, elements)\n",
    "representations.head()"
   ]
  },
  {
   "source": [
    "### 4. Transform and reduce the dataset"
   ],
   "cell_type": "markdown",
   "metadata": {}
  },
  {
   "cell_type": "code",
   "execution_count": 4,
   "metadata": {},
   "outputs": [
    {
     "output_type": "execute_result",
     "data": {
      "text/plain": [
       "   mean radius  mean texture  mean perimeter  mean area  mean smoothness  \\\n",
       "0     1.097064     -2.073335        1.269934   0.984375         1.568466   \n",
       "1     1.829821     -0.353632        1.685955   1.908708        -0.826962   \n",
       "2     1.579888      0.456187        1.566503   1.558884         0.942210   \n",
       "3    -0.768909      0.253732       -0.592687  -0.764464         3.283553   \n",
       "4     1.750297     -1.151816        1.776573   1.826229         0.280372   \n",
       "\n",
       "   mean compactness  mean concavity  mean concave points  mean symmetry  \\\n",
       "0          3.283515        2.652874             2.532475       2.217515   \n",
       "1         -0.487072       -0.023846             0.548144       0.001392   \n",
       "2          1.052926        1.363478             2.037231       0.939685   \n",
       "3          3.402909        1.915897             1.451707       2.867383   \n",
       "4          0.539340        1.371011             1.428493      -0.009560   \n",
       "\n",
       "   mean fractal dimension  ...  worst radius  worst texture  worst perimeter  \\\n",
       "0                2.255747  ...      1.886690      -1.359293         2.303601   \n",
       "1               -0.868652  ...      1.805927      -0.369203         1.535126   \n",
       "2               -0.398008  ...      1.511870      -0.023974         1.347475   \n",
       "3                4.910919  ...     -0.281464       0.133984        -0.249939   \n",
       "4               -0.562450  ...      1.298575      -1.466770         1.338539   \n",
       "\n",
       "   worst area  worst smoothness  worst compactness  worst concavity  \\\n",
       "0    2.001237          1.307686           2.616665         2.109526   \n",
       "1    1.890489         -0.375612          -0.430444        -0.146749   \n",
       "2    1.456285          0.527407           1.082932         0.854974   \n",
       "3   -0.550021          3.394275           3.893397         1.989588   \n",
       "4    1.220724          0.220556          -0.313395         0.613179   \n",
       "\n",
       "   worst concave points  worst symmetry  worst fractal dimension  \n",
       "0              2.296076        2.750622                 1.937015  \n",
       "1              1.087084       -0.243890                 0.281190  \n",
       "2              1.955000        1.152255                 0.201391  \n",
       "3              2.175786        6.046041                 4.935010  \n",
       "4              0.729259       -0.868353                -0.397100  \n",
       "\n",
       "[5 rows x 30 columns]"
      ],
      "text/html": "<div>\n<style scoped>\n    .dataframe tbody tr th:only-of-type {\n        vertical-align: middle;\n    }\n\n    .dataframe tbody tr th {\n        vertical-align: top;\n    }\n\n    .dataframe thead th {\n        text-align: right;\n    }\n</style>\n<table border=\"1\" class=\"dataframe\">\n  <thead>\n    <tr style=\"text-align: right;\">\n      <th></th>\n      <th>mean radius</th>\n      <th>mean texture</th>\n      <th>mean perimeter</th>\n      <th>mean area</th>\n      <th>mean smoothness</th>\n      <th>mean compactness</th>\n      <th>mean concavity</th>\n      <th>mean concave points</th>\n      <th>mean symmetry</th>\n      <th>mean fractal dimension</th>\n      <th>...</th>\n      <th>worst radius</th>\n      <th>worst texture</th>\n      <th>worst perimeter</th>\n      <th>worst area</th>\n      <th>worst smoothness</th>\n      <th>worst compactness</th>\n      <th>worst concavity</th>\n      <th>worst concave points</th>\n      <th>worst symmetry</th>\n      <th>worst fractal dimension</th>\n    </tr>\n  </thead>\n  <tbody>\n    <tr>\n      <th>0</th>\n      <td>1.097064</td>\n      <td>-2.073335</td>\n      <td>1.269934</td>\n      <td>0.984375</td>\n      <td>1.568466</td>\n      <td>3.283515</td>\n      <td>2.652874</td>\n      <td>2.532475</td>\n      <td>2.217515</td>\n      <td>2.255747</td>\n      <td>...</td>\n      <td>1.886690</td>\n      <td>-1.359293</td>\n      <td>2.303601</td>\n      <td>2.001237</td>\n      <td>1.307686</td>\n      <td>2.616665</td>\n      <td>2.109526</td>\n      <td>2.296076</td>\n      <td>2.750622</td>\n      <td>1.937015</td>\n    </tr>\n    <tr>\n      <th>1</th>\n      <td>1.829821</td>\n      <td>-0.353632</td>\n      <td>1.685955</td>\n      <td>1.908708</td>\n      <td>-0.826962</td>\n      <td>-0.487072</td>\n      <td>-0.023846</td>\n      <td>0.548144</td>\n      <td>0.001392</td>\n      <td>-0.868652</td>\n      <td>...</td>\n      <td>1.805927</td>\n      <td>-0.369203</td>\n      <td>1.535126</td>\n      <td>1.890489</td>\n      <td>-0.375612</td>\n      <td>-0.430444</td>\n      <td>-0.146749</td>\n      <td>1.087084</td>\n      <td>-0.243890</td>\n      <td>0.281190</td>\n    </tr>\n    <tr>\n      <th>2</th>\n      <td>1.579888</td>\n      <td>0.456187</td>\n      <td>1.566503</td>\n      <td>1.558884</td>\n      <td>0.942210</td>\n      <td>1.052926</td>\n      <td>1.363478</td>\n      <td>2.037231</td>\n      <td>0.939685</td>\n      <td>-0.398008</td>\n      <td>...</td>\n      <td>1.511870</td>\n      <td>-0.023974</td>\n      <td>1.347475</td>\n      <td>1.456285</td>\n      <td>0.527407</td>\n      <td>1.082932</td>\n      <td>0.854974</td>\n      <td>1.955000</td>\n      <td>1.152255</td>\n      <td>0.201391</td>\n    </tr>\n    <tr>\n      <th>3</th>\n      <td>-0.768909</td>\n      <td>0.253732</td>\n      <td>-0.592687</td>\n      <td>-0.764464</td>\n      <td>3.283553</td>\n      <td>3.402909</td>\n      <td>1.915897</td>\n      <td>1.451707</td>\n      <td>2.867383</td>\n      <td>4.910919</td>\n      <td>...</td>\n      <td>-0.281464</td>\n      <td>0.133984</td>\n      <td>-0.249939</td>\n      <td>-0.550021</td>\n      <td>3.394275</td>\n      <td>3.893397</td>\n      <td>1.989588</td>\n      <td>2.175786</td>\n      <td>6.046041</td>\n      <td>4.935010</td>\n    </tr>\n    <tr>\n      <th>4</th>\n      <td>1.750297</td>\n      <td>-1.151816</td>\n      <td>1.776573</td>\n      <td>1.826229</td>\n      <td>0.280372</td>\n      <td>0.539340</td>\n      <td>1.371011</td>\n      <td>1.428493</td>\n      <td>-0.009560</td>\n      <td>-0.562450</td>\n      <td>...</td>\n      <td>1.298575</td>\n      <td>-1.466770</td>\n      <td>1.338539</td>\n      <td>1.220724</td>\n      <td>0.220556</td>\n      <td>-0.313395</td>\n      <td>0.613179</td>\n      <td>0.729259</td>\n      <td>-0.868353</td>\n      <td>-0.397100</td>\n    </tr>\n  </tbody>\n</table>\n<p>5 rows × 30 columns</p>\n</div>"
     },
     "metadata": {},
     "execution_count": 4
    }
   ],
   "source": [
    "scaler = StandardScaler()\n",
    "transformed_dataset = pandas.DataFrame(scaler.fit_transform(dataset), columns=columns)\n",
    "\n",
    "transformed_dataset.head()"
   ]
  },
  {
   "cell_type": "code",
   "execution_count": 5,
   "metadata": {},
   "outputs": [
    {
     "output_type": "execute_result",
     "data": {
      "text/plain": [
       "                                              radius  \\\n",
       "0  {'mean': 1.0970639814699807, 'error': 2.489733...   \n",
       "1  {'mean': 1.8298206075464458, 'error': 0.499254...   \n",
       "2  {'mean': 1.5798881149312178, 'error': 1.228675...   \n",
       "3  {'mean': -0.7689092872596208, 'error': 0.32637...   \n",
       "4  {'mean': 1.7502966326234184, 'error': 1.270542...   \n",
       "\n",
       "                                             texture  \\\n",
       "0  {'mean': -2.0733350146975935, 'error': -0.5652...   \n",
       "1  {'mean': -0.35363240824381126, 'error': -0.876...   \n",
       "2  {'mean': 0.4561869517641946, 'error': -0.78008...   \n",
       "3  {'mean': 0.25373211176219296, 'error': -0.1104...   \n",
       "4  {'mean': -1.1518164326195182, 'error': -0.7902...   \n",
       "\n",
       "                                           perimeter  \\\n",
       "0  {'mean': 1.2699336881399383, 'error': 2.833030...   \n",
       "1  {'mean': 1.6859547105508974, 'error': 0.263326...   \n",
       "2  {'mean': 1.5665031298586416, 'error': 0.850928...   \n",
       "3  {'mean': -0.5926871666544732, 'error': 0.28659...   \n",
       "4  {'mean': 1.7765731510760563, 'error': 1.273189...   \n",
       "\n",
       "                                                area  \\\n",
       "0  {'mean': 0.9843749048031144, 'error': 2.487577...   \n",
       "1  {'mean': 1.9087082542365938, 'error': 0.742401...   \n",
       "2  {'mean': 1.5588836327586924, 'error': 1.181336...   \n",
       "3  {'mean': -0.7644637923250287, 'error': -0.2883...   \n",
       "4  {'mean': 1.826229278440991, 'error': 1.1903567...   \n",
       "\n",
       "                                          smoothness  \\\n",
       "0  {'mean': 1.568466329243428, 'error': -0.214001...   \n",
       "1  {'mean': -0.8269624468508425, 'error': -0.6053...   \n",
       "2  {'mean': 0.9422104400684553, 'error': -0.29700...   \n",
       "3  {'mean': 3.283553480279431, 'error': 0.6897016...   \n",
       "4  {'mean': 0.2803718299176319, 'error': 1.483067...   \n",
       "\n",
       "                                         compactness  \\\n",
       "0  {'mean': 3.2835146709868264, 'error': 1.316861...   \n",
       "1  {'mean': -0.48707167257589423, 'error': -0.692...   \n",
       "2  {'mean': 1.05292554434161, 'error': 0.81497350...   \n",
       "3  {'mean': 3.402908991274548, 'error': 2.7442804...   \n",
       "4  {'mean': 0.5393404523102987, 'error': -0.04851...   \n",
       "\n",
       "                                           concavity  \\\n",
       "0  {'mean': 2.652873983743168, 'error': 0.7240261...   \n",
       "1  {'mean': -0.023845855198769264, 'error': -0.44...   \n",
       "2  {'mean': 1.3634784515699176, 'error': 0.213076...   \n",
       "3  {'mean': 1.9158971800569968, 'error': 0.819518...   \n",
       "4  {'mean': 1.3710114342311053, 'error': 0.828470...   \n",
       "\n",
       "                                      concave points  \\\n",
       "0  {'mean': 2.532475216403245, 'error': 0.6608199...   \n",
       "1  {'mean': 0.5481441558908369, 'error': 0.260162...   \n",
       "2  {'mean': 2.0372307557008114, 'error': 1.424827...   \n",
       "3  {'mean': 1.451707356849496, 'error': 1.1150070...   \n",
       "4  {'mean': 1.4284927727540695, 'error': 1.144204...   \n",
       "\n",
       "                                            symmetry  \\\n",
       "0  {'mean': 2.2175150059646405, 'error': 1.148756...   \n",
       "1  {'mean': 0.0013923632994608738, 'error': -0.80...   \n",
       "2  {'mean': 0.939684816618985, 'error': 0.2370355...   \n",
       "3  {'mean': 2.867382930831859, 'error': 4.7326803...   \n",
       "4  {'mean': -0.009560466894930265, 'error': -0.36...   \n",
       "\n",
       "                                   fractal dimension  \n",
       "0  {'mean': 2.255746885296269, 'error': 0.9070830...  \n",
       "1  {'mean': -0.8686524574634664, 'error': -0.0994...  \n",
       "2  {'mean': -0.3980079103689868, 'error': 0.29355...  \n",
       "3  {'mean': 4.9109192850190375, 'error': 2.047510...  \n",
       "4  {'mean': -0.562449981040552, 'error': 0.499328...  "
      ],
      "text/html": "<div>\n<style scoped>\n    .dataframe tbody tr th:only-of-type {\n        vertical-align: middle;\n    }\n\n    .dataframe tbody tr th {\n        vertical-align: top;\n    }\n\n    .dataframe thead th {\n        text-align: right;\n    }\n</style>\n<table border=\"1\" class=\"dataframe\">\n  <thead>\n    <tr style=\"text-align: right;\">\n      <th></th>\n      <th>radius</th>\n      <th>texture</th>\n      <th>perimeter</th>\n      <th>area</th>\n      <th>smoothness</th>\n      <th>compactness</th>\n      <th>concavity</th>\n      <th>concave points</th>\n      <th>symmetry</th>\n      <th>fractal dimension</th>\n    </tr>\n  </thead>\n  <tbody>\n    <tr>\n      <th>0</th>\n      <td>{'mean': 1.0970639814699807, 'error': 2.489733...</td>\n      <td>{'mean': -2.0733350146975935, 'error': -0.5652...</td>\n      <td>{'mean': 1.2699336881399383, 'error': 2.833030...</td>\n      <td>{'mean': 0.9843749048031144, 'error': 2.487577...</td>\n      <td>{'mean': 1.568466329243428, 'error': -0.214001...</td>\n      <td>{'mean': 3.2835146709868264, 'error': 1.316861...</td>\n      <td>{'mean': 2.652873983743168, 'error': 0.7240261...</td>\n      <td>{'mean': 2.532475216403245, 'error': 0.6608199...</td>\n      <td>{'mean': 2.2175150059646405, 'error': 1.148756...</td>\n      <td>{'mean': 2.255746885296269, 'error': 0.9070830...</td>\n    </tr>\n    <tr>\n      <th>1</th>\n      <td>{'mean': 1.8298206075464458, 'error': 0.499254...</td>\n      <td>{'mean': -0.35363240824381126, 'error': -0.876...</td>\n      <td>{'mean': 1.6859547105508974, 'error': 0.263326...</td>\n      <td>{'mean': 1.9087082542365938, 'error': 0.742401...</td>\n      <td>{'mean': -0.8269624468508425, 'error': -0.6053...</td>\n      <td>{'mean': -0.48707167257589423, 'error': -0.692...</td>\n      <td>{'mean': -0.023845855198769264, 'error': -0.44...</td>\n      <td>{'mean': 0.5481441558908369, 'error': 0.260162...</td>\n      <td>{'mean': 0.0013923632994608738, 'error': -0.80...</td>\n      <td>{'mean': -0.8686524574634664, 'error': -0.0994...</td>\n    </tr>\n    <tr>\n      <th>2</th>\n      <td>{'mean': 1.5798881149312178, 'error': 1.228675...</td>\n      <td>{'mean': 0.4561869517641946, 'error': -0.78008...</td>\n      <td>{'mean': 1.5665031298586416, 'error': 0.850928...</td>\n      <td>{'mean': 1.5588836327586924, 'error': 1.181336...</td>\n      <td>{'mean': 0.9422104400684553, 'error': -0.29700...</td>\n      <td>{'mean': 1.05292554434161, 'error': 0.81497350...</td>\n      <td>{'mean': 1.3634784515699176, 'error': 0.213076...</td>\n      <td>{'mean': 2.0372307557008114, 'error': 1.424827...</td>\n      <td>{'mean': 0.939684816618985, 'error': 0.2370355...</td>\n      <td>{'mean': -0.3980079103689868, 'error': 0.29355...</td>\n    </tr>\n    <tr>\n      <th>3</th>\n      <td>{'mean': -0.7689092872596208, 'error': 0.32637...</td>\n      <td>{'mean': 0.25373211176219296, 'error': -0.1104...</td>\n      <td>{'mean': -0.5926871666544732, 'error': 0.28659...</td>\n      <td>{'mean': -0.7644637923250287, 'error': -0.2883...</td>\n      <td>{'mean': 3.283553480279431, 'error': 0.6897016...</td>\n      <td>{'mean': 3.402908991274548, 'error': 2.7442804...</td>\n      <td>{'mean': 1.9158971800569968, 'error': 0.819518...</td>\n      <td>{'mean': 1.451707356849496, 'error': 1.1150070...</td>\n      <td>{'mean': 2.867382930831859, 'error': 4.7326803...</td>\n      <td>{'mean': 4.9109192850190375, 'error': 2.047510...</td>\n    </tr>\n    <tr>\n      <th>4</th>\n      <td>{'mean': 1.7502966326234184, 'error': 1.270542...</td>\n      <td>{'mean': -1.1518164326195182, 'error': -0.7902...</td>\n      <td>{'mean': 1.7765731510760563, 'error': 1.273189...</td>\n      <td>{'mean': 1.826229278440991, 'error': 1.1903567...</td>\n      <td>{'mean': 0.2803718299176319, 'error': 1.483067...</td>\n      <td>{'mean': 0.5393404523102987, 'error': -0.04851...</td>\n      <td>{'mean': 1.3710114342311053, 'error': 0.828470...</td>\n      <td>{'mean': 1.4284927727540695, 'error': 1.144204...</td>\n      <td>{'mean': -0.009560466894930265, 'error': -0.36...</td>\n      <td>{'mean': -0.562449981040552, 'error': 0.499328...</td>\n    </tr>\n  </tbody>\n</table>\n</div>"
     },
     "metadata": {},
     "execution_count": 5
    }
   ],
   "source": [
    "representation_of_the_scaled_dataset = create_representation_dataset(transformed_dataset, elements)\n",
    "representation_of_the_scaled_dataset.head()"
   ]
  },
  {
   "cell_type": "code",
   "execution_count": null,
   "metadata": {},
   "outputs": [],
   "source": []
  }
 ]
}